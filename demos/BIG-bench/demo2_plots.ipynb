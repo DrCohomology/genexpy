{
 "cells": [
  {
   "cell_type": "markdown",
   "metadata": {},
   "source": [
    "# Analysis of generalizability and $n^*$\n",
    "\n",
    "This notebook analyzes the results of `demo1_estimate_nstar.ipynb` to investigate the dependency between the desired generalizability $\\alpha^*$, the similarity threshold for rankings $\\delta^*$, and the number of experimental conditions that guarantee generalizable results $n^*$. "
   ]
  },
  {
   "metadata": {},
   "cell_type": "markdown",
   "source": "## Imports and configuration"
  },
  {
   "cell_type": "code",
   "metadata": {
    "ExecuteTime": {
     "end_time": "2024-08-01T10:34:23.350548Z",
     "start_time": "2024-08-01T10:34:23.122713Z"
    }
   },
   "source": [
    "import matplotlib as mpl\n",
    "import matplotlib.pyplot as plt\n",
    "import numpy as np\n",
    "import os\n",
    "import pandas as pd\n",
    "import seaborn as sns\n",
    "import yaml\n",
    "\n",
    "from pathlib import Path\n",
    "from tqdm.auto import tqdm"
   ],
   "outputs": [],
   "execution_count": 1
  },
  {
   "metadata": {},
   "cell_type": "markdown",
   "source": "Next, we load the parameters from the configuration file. "
  },
  {
   "metadata": {
    "ExecuteTime": {
     "end_time": "2024-08-01T10:34:23.370269Z",
     "start_time": "2024-08-01T10:34:23.353564Z"
    }
   },
   "cell_type": "code",
   "source": [
    "with open(\"config.yaml\", 'r') as file:\n",
    "    config = yaml.safe_load(file)\n",
    "\n",
    "OUTPUT_DIR = Path(config['paths']['output_dir'])\n",
    "FIGURES_DIR = Path(config['paths']['figures_dir'])\n",
    "FIGURES_DIR.mkdir(exist_ok=True, parents=True)\n",
    "\n",
    "DATASET = Path(config['data']['dataset_path'])\n",
    "EXPERIMENTAL_FACTORS = config['data']['experimental_factors']\n",
    "TARGET = config['data']['target']\n",
    "ALTERNATIVES = config['data']['alternatives']"
   ],
   "outputs": [],
   "execution_count": 2
  },
  {
   "cell_type": "markdown",
   "source": [
    "## Loading \n",
    "\n",
    "We concatenate all of the output dataframes and add a column with the number of datasets we have results on, conditioned on (model, tuning, scoring). In the terminology of the paper, we fix the held-constant and design factors and count the number of levels of the allowed-to-vary factor. "
   ],
   "metadata": {
    "collapsed": false
   }
  },
  {
   "cell_type": "code",
   "source": [
    "df_nstar = pd.concat([pd.read_parquet(x) \n",
    "                      for x in tqdm(list(OUTPUT_DIR.glob(\"**/**/**/nstar.parquet\")), \n",
    "                                    desc=\"Loading dataframes\")]).reset_index(drop=True)\n",
    "\n",
    "fixed_factors = [factor for factor, lvl in EXPERIMENTAL_FACTORS.items() if lvl == \"_all\"]  \n",
    "df_nstar = df_nstar.join(df_nstar.groupby(fixed_factors)[\"N\"].max(), on=fixed_factors, rsuffix=\"max\")"
   ],
   "metadata": {
    "collapsed": false,
    "ExecuteTime": {
     "end_time": "2024-08-01T10:37:32.222997Z",
     "start_time": "2024-08-01T10:34:23.372293Z"
    }
   },
   "outputs": [
    {
     "data": {
      "text/plain": [
       "Loading dataframes:   0%|          | 0/14353 [00:00<?, ?it/s]"
      ],
      "application/vnd.jupyter.widget-view+json": {
       "version_major": 2,
       "version_minor": 0,
       "model_id": "41f27cd390b648cc945afe5f8c4218d7"
      }
     },
     "metadata": {},
     "output_type": "display_data"
    }
   ],
   "execution_count": 3
  },
  {
   "cell_type": "markdown",
   "source": "## Plot parameters",
   "metadata": {
    "collapsed": false
   }
  },
  {
   "cell_type": "code",
   "source": [
    "sns.set(style=\"ticks\", context=\"paper\", font=\"times new roman\")\n",
    "\n",
    "# mpl.use(\"TkAgg\")\n",
    "mpl.rcParams['text.usetex'] = True\n",
    "mpl.rcParams['text.latex.preamble'] = r\"\"\"\n",
    "    \\usepackage{mathptmx}\n",
    "    \\usepackage{amsmath}\n",
    "\"\"\"\n",
    "mpl.rc('font', family='Times New Roman')\n",
    "\n",
    "# pretty names\n",
    "pc = {\"alpha\": r\"$\\alpha^*$\", \"eps\": r\"$\\varepsilon^*$\", \"nstar\": r\"$n^*$\", \"delta\": r\"$\\delta^*$\", \"N\": r\"$N$\", \"nstar_absrel_error\": \"relative error\"}  # columns\n",
    "pk = {\"borda_kernel_idx_GPT GPT-3 XL\": r\"$\\kappa_b^{\\text{GPT3}, 1/n}$\", \"mallows_kernel_nu_auto\": r\"$\\kappa_m^{1/\\binom{n}{2}}$\", \"jaccard_kernel_k_1\": r\"$\\kappa_j^{1}$\"}  # kernels\n",
    "pk.update({\"borda_kernel_idx_GPT GPT-3 XL\": \"$g_1$\", \"mallows_kernel_nu_auto\": \"$g_3$\", \"jaccard_kernel_k_1\": \"$g_2$\"})  # rename kernels to goals"
   ],
   "metadata": {
    "collapsed": false,
    "ExecuteTime": {
     "end_time": "2024-08-01T10:37:32.232999Z",
     "start_time": "2024-08-01T10:37:32.225015Z"
    }
   },
   "outputs": [],
   "execution_count": 4
  },
  {
   "cell_type": "markdown",
   "source": "The following function outputs a very conservative upper bound for $n^*$.",
   "metadata": {
    "collapsed": false
   }
  },
  {
   "cell_type": "code",
   "source": [
    "@np.vectorize\n",
    "def theoretical_nstar(alphastar, epsstar, kbar=1):\n",
    "    beta1 = -2\n",
    "    beta0 = 2*np.log(np.sqrt(2*kbar) + np.sqrt(-4*kbar * np.log(1-alphastar)))\n",
    "    return np.exp(beta0 + beta1*np.log(epsstar))"
   ],
   "metadata": {
    "collapsed": false,
    "ExecuteTime": {
     "end_time": "2024-08-01T10:37:32.247282Z",
     "start_time": "2024-08-01T10:37:32.235013Z"
    }
   },
   "outputs": [],
   "execution_count": 5
  },
  {
   "cell_type": "markdown",
   "source": [
    "## How $n^*$ depends on $\\alpha^*$ and $\\delta^*$\n",
    "\n",
    "We can finally visualize how $n^*$ depends on $\\alpha^*$ and $\\delta^*$. \n",
    "To do so, we first fix $a\\alpha^* = 0.05$ and then $\\delta^* = 0.05$ (corresponding to $\\varepsilon(\\delta^*) \\approx 0.31$)."
   ],
   "metadata": {
    "collapsed": false
   }
  },
  {
   "cell_type": "code",
   "source": [
    "alpha_fixed = 0.95\n",
    "delta_fixed = 0.05\n",
    "eps_fixed = 0.31\n",
    "\n",
    "\n",
    "plt.close(\"all\")\n",
    "fig, axes = plt.subplots(1, 2, figsize=(5.5, 5.5/2.5), width_ratios=(1, 1), sharey=True)\n",
    "\n",
    "# ----  ALPHA\n",
    "ax = axes[0]\n",
    "dfplot = df_nstar.loc[(df_nstar[\"delta\"] == delta_fixed) & (df_nstar[\"N\"] == df_nstar[\"Nmax\"])]\n",
    "\n",
    "# Make dfplot pretty\n",
    "dfplot = dfplot.rename(columns=pc)\n",
    "dfplot[\"kernel\"] = dfplot[\"kernel\"].map(pk)\n",
    "dfplot[\"nstar_th\"] = theoretical_nstar(dfplot[pc[\"alpha\"]], dfplot[pc[\"eps\"]], kbar=1)\n",
    "\n",
    "# Plot\n",
    "sns.boxplot(dfplot, x=pc[\"alpha\"], y=pc[\"nstar\"], ax=ax, hue=\"kernel\", showfliers=False, palette=\"cubehelix\",\n",
    "            dodge=True, native_scale=True, fill=False, legend=False,\n",
    "            width=0.75, boxprops={\"linewidth\": 1.2}, gap=0.25)\n",
    "# ax.set(xticks=[0.7, 0.8, 0.9, 0.99])\n",
    "ax.grid(color=\"grey\", alpha=0.2)\n",
    "\n",
    "# Uncomment to plot the conservative estimate for nstar\n",
    "# alphas = np.linspace(dfplot[pc[\"alpha\"]].min(), dfplot[pc[\"alpha\"]].max(), 100)\n",
    "# nstars_th = theoretical_nstar(alphas, eps_fixed)\n",
    "# sns.lineplot(x=alphas, y=nstars_th, ax=ax, c=\"black\", linewidth=0.5)  \n",
    "\n",
    "# ----  DELTA\n",
    "ax = axes[1]\n",
    "dfplot = df_nstar.loc[(df_nstar[\"alpha\"] == alpha_fixed) & (df_nstar[\"N\"] == df_nstar[\"Nmax\"])]\n",
    "\n",
    "# Make dfplot pretty\n",
    "dfplot = dfplot.rename(columns=pc)\n",
    "dfplot[\"kernel\"] = dfplot[\"kernel\"].map(pk)\n",
    "\n",
    "# plot\n",
    "sns.boxplot(dfplot, x=pc[\"delta\"], y=pc[\"nstar\"], ax=ax, hue=\"kernel\", showfliers=False, palette=\"cubehelix\",\n",
    "            dodge=True, native_scale=True, fill=False, legend=True,\n",
    "            width=0.75, boxprops={\"linewidth\": 1.2}, gap=0.25)\n",
    "# ax.set(xticks=[0.01, 0.1, 0.2, 0.3])\n",
    "ax.grid(color=\"grey\", alpha=0.2)\n",
    "\n",
    "# Uncomment to plot the conservative estimate for nstar\n",
    "# epss = np.linspace(dfplot[pc[\"eps\"]].min(), dfplot[pc[\"eps\"]].max(), 100)\n",
    "# nstars_th = theoretical_nstar(alpha_fixed, epss)\n",
    "# # sns.lineplot(x=epss, y=nstars_th, ax=ax, c=\"black\", linewidth=0.5) \n",
    "\n",
    "ax.legend(*ax.get_legend_handles_labels()).get_frame().set_edgecolor(\"w\")\n",
    "# ax.set_yscale(\"log\")\n",
    "\n",
    "sns.despine(right=True, top=True)\n",
    "plt.tight_layout(pad=.5)\n",
    "plt.subplots_adjust(wspace=.12)\n",
    "plt.savefig(FIGURES_DIR / \"llms_nstar_alpha_delta.pdf\")\n",
    "# plt.savefig(FIGURES_DIR / \"llms_nstar_alpha_delta_upperbound.pdf\")\n",
    "plt.show()"
   ],
   "metadata": {
    "collapsed": false,
    "ExecuteTime": {
     "end_time": "2024-08-01T10:37:35.914168Z",
     "start_time": "2024-08-01T10:37:32.251303Z"
    }
   },
   "outputs": [
    {
     "data": {
      "text/plain": [
       "<Figure size 550x220 with 2 Axes>"
      ],
      "image/png": "[encoded data removed]"
     },
     "metadata": {},
     "output_type": "display_data"
    }
   ],
   "execution_count": 6
  },
  {
   "cell_type": "markdown",
   "source": "### Most and least generalizable combinations of design factors",
   "metadata": {
    "collapsed": false
   }
  },
  {
   "cell_type": "code",
   "source": [
    "kernel = \"jaccard_kernel_k_1\"\n",
    "\n",
    "df_ = df_nstar.query(\"kernel==@kernel and alpha==@alpha_fixed and delta==@delta_fixed\")\n",
    "df_ = df_.loc[df_[\"N\"] == df_[\"Nmax\"]]\n",
    "df_.loc[(df_[\"nstar\"] == df_[\"nstar\"].min()) | (df_[\"nstar\"] == df_[\"nstar\"].max())]"
   ],
   "metadata": {
    "collapsed": false,
    "ExecuteTime": {
     "end_time": "2024-08-01T10:37:35.946542Z",
     "start_time": "2024-08-01T10:37:35.916188Z"
    }
   },
   "outputs": [
    {
     "data": {
      "text/plain": [
       "                 kernel  alpha       eps  delta  disjoint  replace   N  \\\n",
       "93   jaccard_kernel_k_1   0.95  0.316228   0.05      True    False  20   \n",
       "155  jaccard_kernel_k_1   0.95  0.316228   0.05      True    False  20   \n",
       "294  jaccard_kernel_k_1   0.95  0.316228   0.05      True    False  10   \n",
       "\n",
       "         nstar  nstar_lower  nstar_upper  variance  var_lower_bound  singular  \\\n",
       "93    1.000000     1.000000     1.000000  0.000000         0.991291      True   \n",
       "155   1.000000     1.000000     1.000000  0.000000         0.991291      True   \n",
       "294  43.790123    27.412227    56.877656  0.777778         0.349889     False   \n",
       "\n",
       "               task_name  number_of_shots  Nmax  \n",
       "93            arithmetic                1    20  \n",
       "155           arithmetic                2    20  \n",
       "294  conlang_translation                0    10  "
      ],
      "text/html": [
       "<div>\n",
       "<style scoped>\n",
       "    .dataframe tbody tr th:only-of-type {\n",
       "        vertical-align: middle;\n",
       "    }\n",
       "\n",
       "    .dataframe tbody tr th {\n",
       "        vertical-align: top;\n",
       "    }\n",
       "\n",
       "    .dataframe thead th {\n",
       "        text-align: right;\n",
       "    }\n",
       "</style>\n",
       "<table border=\"1\" class=\"dataframe\">\n",
       "  <thead>\n",
       "    <tr style=\"text-align: right;\">\n",
       "      <th></th>\n",
       "      <th>kernel</th>\n",
       "      <th>alpha</th>\n",
       "      <th>eps</th>\n",
       "      <th>delta</th>\n",
       "      <th>disjoint</th>\n",
       "      <th>replace</th>\n",
       "      <th>N</th>\n",
       "      <th>nstar</th>\n",
       "      <th>nstar_lower</th>\n",
       "      <th>nstar_upper</th>\n",
       "      <th>variance</th>\n",
       "      <th>var_lower_bound</th>\n",
       "      <th>singular</th>\n",
       "      <th>task_name</th>\n",
       "      <th>number_of_shots</th>\n",
       "      <th>Nmax</th>\n",
       "    </tr>\n",
       "  </thead>\n",
       "  <tbody>\n",
       "    <tr>\n",
       "      <th>93</th>\n",
       "      <td>jaccard_kernel_k_1</td>\n",
       "      <td>0.95</td>\n",
       "      <td>0.316228</td>\n",
       "      <td>0.05</td>\n",
       "      <td>True</td>\n",
       "      <td>False</td>\n",
       "      <td>20</td>\n",
       "      <td>1.000000</td>\n",
       "      <td>1.000000</td>\n",
       "      <td>1.000000</td>\n",
       "      <td>0.000000</td>\n",
       "      <td>0.991291</td>\n",
       "      <td>True</td>\n",
       "      <td>arithmetic</td>\n",
       "      <td>1</td>\n",
       "      <td>20</td>\n",
       "    </tr>\n",
       "    <tr>\n",
       "      <th>155</th>\n",
       "      <td>jaccard_kernel_k_1</td>\n",
       "      <td>0.95</td>\n",
       "      <td>0.316228</td>\n",
       "      <td>0.05</td>\n",
       "      <td>True</td>\n",
       "      <td>False</td>\n",
       "      <td>20</td>\n",
       "      <td>1.000000</td>\n",
       "      <td>1.000000</td>\n",
       "      <td>1.000000</td>\n",
       "      <td>0.000000</td>\n",
       "      <td>0.991291</td>\n",
       "      <td>True</td>\n",
       "      <td>arithmetic</td>\n",
       "      <td>2</td>\n",
       "      <td>20</td>\n",
       "    </tr>\n",
       "    <tr>\n",
       "      <th>294</th>\n",
       "      <td>jaccard_kernel_k_1</td>\n",
       "      <td>0.95</td>\n",
       "      <td>0.316228</td>\n",
       "      <td>0.05</td>\n",
       "      <td>True</td>\n",
       "      <td>False</td>\n",
       "      <td>10</td>\n",
       "      <td>43.790123</td>\n",
       "      <td>27.412227</td>\n",
       "      <td>56.877656</td>\n",
       "      <td>0.777778</td>\n",
       "      <td>0.349889</td>\n",
       "      <td>False</td>\n",
       "      <td>conlang_translation</td>\n",
       "      <td>0</td>\n",
       "      <td>10</td>\n",
       "    </tr>\n",
       "  </tbody>\n",
       "</table>\n",
       "</div>"
      ]
     },
     "execution_count": 7,
     "metadata": {},
     "output_type": "execute_result"
    }
   ],
   "execution_count": 7
  },
  {
   "cell_type": "markdown",
   "source": [
    "## How $n^*$ depends on $N$\n",
    "\n",
    "We estimate the $(\\alpha^*, \\delta^*)$-generalizability on a sample of $N$ results.\n",
    "This section shows how the estimate of $n^*$ changes with bigger samples.\n",
    "In particular, we want to know how large $N$ should be to get an estimate for $n^*$ which is \"close enough\" to the estimate we get at $N=50$."
   ],
   "metadata": {
    "collapsed": false
   }
  },
  {
   "cell_type": "code",
   "source": [
    "nstar_50 = df_nstar.loc[df_nstar[\"N\"] == df_nstar[\"Nmax\"]].drop(columns=[\"N\", \"Nmax\"])\n",
    "keys = [\"kernel\", \"alpha\", \"eps\"] + [\"task_name\", \"number_of_shots\"]\n",
    "df_ = pd.merge(df_nstar, nstar_50, left_on=keys, right_on=keys, suffixes=(\"\", \"_true\"))[keys + [\"nstar\", \"nstar_true\", \"N\", \"Nmax\"]]\n",
    "df_[\"nstar_error\"] = df_[\"nstar\"] - df_[\"nstar_true\"]\n",
    "df_[\"nstar_relative_error\"] = (df_[\"nstar\"] - df_[\"nstar_true\"]) / df_[\"nstar_true\"]\n",
    "df_[\"nstar_absolute_error\"] = np.abs(df_[\"nstar\"] - df_[\"nstar_true\"])\n",
    "df_[\"nstar_absrel_error\"] = np.abs(df_[\"nstar\"] - df_[\"nstar_true\"]) / df_[\"nstar_true\"]\n",
    "# df_ = df_.loc[df_[\"N\"] != df_[\"Nmax\"]]\n",
    "df_ = df_.query(\"Nmax == 50\")\n",
    "\n",
    "dfplot = df_.copy().query(\"N < Nmax\").rename(columns=pc)\n",
    "dfplot[\"kernel\"] = dfplot[\"kernel\"].map(pk)\n",
    "\n",
    "y = pc[\"nstar_absrel_error\"]"
   ],
   "metadata": {
    "collapsed": false,
    "ExecuteTime": {
     "end_time": "2024-08-01T10:37:35.973128Z",
     "start_time": "2024-08-01T10:37:35.948565Z"
    }
   },
   "outputs": [],
   "execution_count": 8
  },
  {
   "metadata": {
    "ExecuteTime": {
     "end_time": "2024-08-01T10:37:36.823238Z",
     "start_time": "2024-08-01T10:37:35.976142Z"
    }
   },
   "cell_type": "code",
   "source": [
    "fig, ax = plt.subplots(1, 1, figsize=(5.5/2, 2))\n",
    "\n",
    "sns.boxplot(dfplot, x=pc[\"N\"], y=y, showfliers=False, fliersize=0.3, hue=\"kernel\", palette=\"cubehelix\", ax=ax, legend=True, linewidth=1.2, fill=False, gap=0.2)  \n",
    "\n",
    "ax.grid(color=\"grey\", alpha=.2)\n",
    "ax.set_yticks([0, 0.2, 0.4, 0.6, 0.8])\n",
    "\n",
    "ax.legend(*ax.get_legend_handles_labels()).get_frame().set_edgecolor(\"w\")\n",
    "sns.despine()\n",
    "plt.tight_layout(pad=.5)\n",
    "\n",
    "plt.savefig(FIGURES_DIR / \"llms_nstar_absrel_error.pdf\")\n",
    "plt.show()"
   ],
   "outputs": [
    {
     "data": {
      "text/plain": [
       "<Figure size 275x200 with 1 Axes>"
      ],
      "image/png": "[encoded data removed]"
     },
     "metadata": {},
     "output_type": "display_data"
    }
   ],
   "execution_count": 9
  }
 ],
 "metadata": {
  "kernelspec": {
   "display_name": "gen",
   "language": "python",
   "name": "python3"
  },
  "language_info": {
   "codemirror_mode": {
    "name": "ipython",
    "version": 3
   },
   "file_extension": ".py",
   "mimetype": "text/x-python",
   "name": "python",
   "nbconvert_exporter": "python",
   "pygments_lexer": "ipython3",
   "version": "3.12.3"
  }
 },
 "nbformat": 4,
 "nbformat_minor": 2
}
