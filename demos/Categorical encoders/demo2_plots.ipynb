{
 "cells": [
  {
   "cell_type": "markdown",
   "metadata": {},
   "source": [
    "# Analysis of generalizability and $n^*$\n",
    "\n",
    "This notebook analyzes the results of `demo1_estimate_nstar.ipynb` to investigate the dependency between the desired generalizability $\\alpha^*$, the similarity threshold for rankings $\\delta^*$, and the number of experimental conditions that guarantee generalizable results $n^*$. "
   ]
  },
  {
   "metadata": {},
   "cell_type": "markdown",
   "source": "## Imports and configuration"
  },
  {
   "cell_type": "code",
   "metadata": {
    "ExecuteTime": {
     "end_time": "2024-08-04T08:41:08.586046Z",
     "start_time": "2024-08-04T08:41:08.567766Z"
    }
   },
   "source": [
    "import matplotlib as mpl\n",
    "import matplotlib.pyplot as plt\n",
    "import numpy as np\n",
    "import os\n",
    "import pandas as pd\n",
    "import seaborn as sns\n",
    "import yaml\n",
    "\n",
    "from pathlib import Path\n",
    "from tqdm.auto import tqdm"
   ],
   "outputs": [],
   "execution_count": 19
  },
  {
   "metadata": {},
   "cell_type": "markdown",
   "source": "Next, we load the parameters from the configuration file. "
  },
  {
   "metadata": {
    "ExecuteTime": {
     "end_time": "2024-08-04T08:41:08.772261Z",
     "start_time": "2024-08-04T08:41:08.724865Z"
    }
   },
   "cell_type": "code",
   "source": [
    "with open(\"config.yaml\", 'r') as file:\n",
    "    config = yaml.safe_load(file)\n",
    "\n",
    "OUTPUT_DIR = Path(config['paths']['output_dir'])\n",
    "FIGURES_DIR = Path(config['paths']['figures_dir'])\n",
    "FIGURES_DIR.mkdir(exist_ok=True, parents=True)\n",
    "\n",
    "DATASET = Path(config['data']['dataset_path'])\n",
    "EXPERIMENTAL_FACTORS = config['data']['experimental_factors']\n",
    "TARGET = config['data']['target']\n",
    "ALTERNATIVES = config['data']['alternatives']"
   ],
   "outputs": [],
   "execution_count": 20
  },
  {
   "cell_type": "markdown",
   "source": [
    "## Loading \n",
    "\n",
    "We concatenate all of the output dataframes and add a column with the number of datasets we have results on, conditioned on (model, tuning, scoring). In the terminology of the paper, we fix the held-constant and design factors and count the number of levels of the allowed-to-vary factor. "
   ],
   "metadata": {
    "collapsed": false
   }
  },
  {
   "cell_type": "code",
   "source": [
    "df_nstar = pd.concat([pd.read_parquet(x) \n",
    "                      for x in tqdm(list(OUTPUT_DIR.glob(\"**/**/**/nstar.parquet\")), \n",
    "                                    desc=\"Loading dataframes\")]).reset_index(drop=True)\n",
    "\n",
    "fixed_factors = [factor for factor, lvl in EXPERIMENTAL_FACTORS.items() if lvl == \"_all\"]  \n",
    "df_nstar = df_nstar.join(df_nstar.groupby(fixed_factors)[\"N\"].max(), on=fixed_factors, rsuffix=\"max\")"
   ],
   "metadata": {
    "collapsed": false,
    "ExecuteTime": {
     "end_time": "2024-08-04T08:41:43.046261Z",
     "start_time": "2024-08-04T08:41:08.819433Z"
    }
   },
   "outputs": [
    {
     "data": {
      "text/plain": [
       "Loading dataframes:   0%|          | 0/1356 [00:00<?, ?it/s]"
      ],
      "application/vnd.jupyter.widget-view+json": {
       "version_major": 2,
       "version_minor": 0,
       "model_id": "0fe0307c0b4c4be7a09a6fef4f3a8994"
      }
     },
     "metadata": {},
     "output_type": "display_data"
    }
   ],
   "execution_count": 21
  },
  {
   "cell_type": "markdown",
   "source": "## Plot parameters",
   "metadata": {
    "collapsed": false
   }
  },
  {
   "cell_type": "code",
   "source": [
    "sns.set(style=\"ticks\", context=\"paper\", font=\"times new roman\")\n",
    "\n",
    "# mpl.use(\"TkAgg\")\n",
    "mpl.rcParams['text.usetex'] = True\n",
    "mpl.rcParams['text.latex.preamble'] = r\"\"\"\n",
    "    \\usepackage{mathptmx}\n",
    "    \\usepackage{amsmath}\n",
    "\"\"\"\n",
    "mpl.rc('font', family='Times New Roman')\n",
    "\n",
    "# pretty names\n",
    "pc = {\"alpha\": r\"$\\alpha^*$\", \"eps\": r\"$\\varepsilon^*$\", \"nstar\": r\"$n^*$\", \"delta\": r\"$\\delta^*$\", \"N\": r\"$N$\", \"nstar_absrel_error\": \"relative error\"}  # columns\n",
    "pk = {\"borda_kernel_idx_OHE\": r\"$\\kappa_b^{\\text{OHE}, 1/n}$\", \"mallows_kernel_nu_auto\": r\"$\\kappa_m^{1/\\binom{n}{2}}$\", \"jaccard_kernel_k_1\": r\"$\\kappa_j^{1}$\"}  # kernels\n",
    "pk.update({\"borda_kernel_idx_OHE\": \"$g_1$\", \"mallows_kernel_nu_auto\": \"$g_3$\", \"jaccard_kernel_k_1\": \"$g_2$\"})  # rename to goal_1, 2, 3"
   ],
   "metadata": {
    "collapsed": false,
    "ExecuteTime": {
     "end_time": "2024-08-04T08:41:43.058324Z",
     "start_time": "2024-08-04T08:41:43.049286Z"
    }
   },
   "outputs": [],
   "execution_count": 22
  },
  {
   "cell_type": "markdown",
   "source": "The following function outputs a very conservative upper bound for $n^*$.",
   "metadata": {
    "collapsed": false
   }
  },
  {
   "cell_type": "code",
   "source": [
    "@np.vectorize\n",
    "def theoretical_nstar(alphastar, epsstar, kbar=1):\n",
    "    beta1 = -2\n",
    "    beta0 = 2*np.log(np.sqrt(2*kbar) + np.sqrt(-4*kbar * np.log(1-alphastar)))\n",
    "    return np.exp(beta0 + beta1*np.log(epsstar))"
   ],
   "metadata": {
    "collapsed": false,
    "ExecuteTime": {
     "end_time": "2024-08-04T08:41:43.067699Z",
     "start_time": "2024-08-04T08:41:43.058324Z"
    }
   },
   "outputs": [],
   "execution_count": 23
  },
  {
   "cell_type": "markdown",
   "source": [
    "## How $n^*$ depends on $\\alpha^*$ and $\\delta^*$\n",
    "\n",
    "We can finally visualize how $n^*$ depends on $\\alpha^*$ and $\\delta^*$. \n",
    "To do so, we first fix $a\\alpha^* = 0.05$ and then $\\delta^* = 0.05$ (corresponding to $\\varepsilon(\\delta^*) \\approx 0.31$)."
   ],
   "metadata": {
    "collapsed": false
   }
  },
  {
   "cell_type": "code",
   "source": [
    "alpha_fixed = 0.95\n",
    "delta_fixed = 0.05\n",
    "eps_fixed = 0.31\n",
    "\n",
    "\n",
    "plt.close(\"all\")\n",
    "fig, axes = plt.subplots(1, 2, figsize=(5.5, 5.5/2.5), width_ratios=(1, 1), sharey=True)\n",
    "\n",
    "# ----  ALPHA\n",
    "ax = axes[0]\n",
    "dfplot = df_nstar.loc[(df_nstar[\"delta\"] == delta_fixed) & (df_nstar[\"N\"] == df_nstar[\"Nmax\"])]\n",
    "\n",
    "# Make dfplot pretty\n",
    "dfplot = dfplot.rename(columns=pc)\n",
    "dfplot[\"kernel\"] = dfplot[\"kernel\"].map(pk)\n",
    "dfplot[\"nstar_th\"] = theoretical_nstar(dfplot[pc[\"alpha\"]], dfplot[pc[\"eps\"]], kbar=1)\n",
    "\n",
    "# Plot\n",
    "sns.boxplot(dfplot, x=pc[\"alpha\"], y=pc[\"nstar\"], ax=ax, hue=\"kernel\", showfliers=False, palette=\"cubehelix\",\n",
    "            dodge=True, native_scale=True, fill=False, legend=False,\n",
    "            width=0.75, boxprops={\"linewidth\": 1.2}, gap=0.25)\n",
    "# ax.set(xticks=[0.7, 0.8, 0.9, 0.99])\n",
    "ax.grid(color=\"grey\", alpha=0.2)\n",
    "\n",
    "# Uncomment to plot the conservative estimate for nstar\n",
    "# alphas = np.linspace(dfplot[pc[\"alpha\"]].min(), dfplot[pc[\"alpha\"]].max(), 100)\n",
    "# nstars_th = theoretical_nstar(alphas, eps_fixed)\n",
    "# sns.lineplot(x=alphas, y=nstars_th, ax=ax, c=\"black\", linewidth=0.5)  \n",
    "\n",
    "# ----  DELTA\n",
    "ax = axes[1]\n",
    "dfplot = df_nstar.loc[(df_nstar[\"alpha\"] == alpha_fixed) & (df_nstar[\"N\"] == df_nstar[\"Nmax\"])]\n",
    "\n",
    "# Make dfplot pretty\n",
    "dfplot = dfplot.rename(columns=pc)\n",
    "dfplot[\"kernel\"] = dfplot[\"kernel\"].map(pk)\n",
    "\n",
    "# plot\n",
    "sns.boxplot(dfplot, x=pc[\"delta\"], y=pc[\"nstar\"], ax=ax, hue=\"kernel\", showfliers=False, palette=\"cubehelix\",\n",
    "            dodge=True, native_scale=True, fill=False, legend=True,\n",
    "            width=0.75, boxprops={\"linewidth\": 1.2}, gap=0.25)\n",
    "# ax.set(xticks=[0.01, 0.1, 0.2, 0.3])\n",
    "ax.grid(color=\"grey\", alpha=0.2)\n",
    "\n",
    "# Uncomment to plot the conservative estimate for nstar\n",
    "# epss = np.linspace(dfplot[pc[\"eps\"]].min(), dfplot[pc[\"eps\"]].max(), 100)\n",
    "# nstars_th = theoretical_nstar(alpha_fixed, epss)\n",
    "# # sns.lineplot(x=epss, y=nstars_th, ax=ax, c=\"black\", linewidth=0.5) \n",
    "\n",
    "ax.legend(*ax.get_legend_handles_labels()).get_frame().set_edgecolor(\"w\")\n",
    "\n",
    "sns.despine(right=True, top=True)\n",
    "plt.tight_layout(pad=.5)\n",
    "plt.subplots_adjust(wspace=.12)\n",
    "plt.savefig(FIGURES_DIR / \"encoders_nstar_alpha_delta.pdf\")\n",
    "# plt.savefig(FIGURES_DIR / \"encoders_nstar_alpha_delta_upperbound.pdf\")\n",
    "plt.show()"
   ],
   "metadata": {
    "collapsed": false,
    "ExecuteTime": {
     "end_time": "2024-08-04T08:41:44.624540Z",
     "start_time": "2024-08-04T08:41:43.067699Z"
    }
   },
   "outputs": [
    {
     "data": {
      "text/plain": [
       "<Figure size 550x220 with 2 Axes>"
      ],
      "image/png": "[encoded data removed]"
     },
     "metadata": {},
     "output_type": "display_data"
    }
   ],
   "execution_count": 24
  },
  {
   "cell_type": "markdown",
   "source": "### Most and least generalizable combinations of design factors",
   "metadata": {
    "collapsed": false
   }
  },
  {
   "cell_type": "code",
   "source": [
    "kernel = \"jaccard_kernel_k_1\"\n",
    "\n",
    "df_ = df_nstar.query(\"kernel==@kernel and alpha==@alpha_fixed and delta==@delta_fixed\")\n",
    "df_ = df_.loc[df_[\"N\"] == df_[\"Nmax\"]]\n",
    "df_.loc[(df_[\"nstar\"] == df_[\"nstar\"].min()) | (df_[\"nstar\"] == df_[\"nstar\"].max())]"
   ],
   "metadata": {
    "collapsed": false,
    "ExecuteTime": {
     "end_time": "2024-08-04T08:41:44.649402Z",
     "start_time": "2024-08-04T08:41:44.624540Z"
    }
   },
   "outputs": [
    {
     "data": {
      "text/plain": [
       "                  kernel  alpha       eps  delta  disjoint  replace   N  \\\n",
       "1900  jaccard_kernel_k_1   0.95  0.316228   0.05      True    False  50   \n",
       "5456  jaccard_kernel_k_1   0.95  0.316228   0.05      True    False  30   \n",
       "\n",
       "          nstar  nstar_lower  nstar_upper  variance  var_lower_bound  model  \\\n",
       "1900  33.393662    33.075697    33.743204  0.905270         0.855461    KNC   \n",
       "5456  24.546580    24.304602    24.935784  0.961119         0.670853  LGBMC   \n",
       "\n",
       "     tuning scoring  Nmax  \n",
       "1900  model     AUC    50  \n",
       "5456     no     AUC    30  "
      ],
      "text/html": [
       "<div>\n",
       "<style scoped>\n",
       "    .dataframe tbody tr th:only-of-type {\n",
       "        vertical-align: middle;\n",
       "    }\n",
       "\n",
       "    .dataframe tbody tr th {\n",
       "        vertical-align: top;\n",
       "    }\n",
       "\n",
       "    .dataframe thead th {\n",
       "        text-align: right;\n",
       "    }\n",
       "</style>\n",
       "<table border=\"1\" class=\"dataframe\">\n",
       "  <thead>\n",
       "    <tr style=\"text-align: right;\">\n",
       "      <th></th>\n",
       "      <th>kernel</th>\n",
       "      <th>alpha</th>\n",
       "      <th>eps</th>\n",
       "      <th>delta</th>\n",
       "      <th>disjoint</th>\n",
       "      <th>replace</th>\n",
       "      <th>N</th>\n",
       "      <th>nstar</th>\n",
       "      <th>nstar_lower</th>\n",
       "      <th>nstar_upper</th>\n",
       "      <th>variance</th>\n",
       "      <th>var_lower_bound</th>\n",
       "      <th>model</th>\n",
       "      <th>tuning</th>\n",
       "      <th>scoring</th>\n",
       "      <th>Nmax</th>\n",
       "    </tr>\n",
       "  </thead>\n",
       "  <tbody>\n",
       "    <tr>\n",
       "      <th>1900</th>\n",
       "      <td>jaccard_kernel_k_1</td>\n",
       "      <td>0.95</td>\n",
       "      <td>0.316228</td>\n",
       "      <td>0.05</td>\n",
       "      <td>True</td>\n",
       "      <td>False</td>\n",
       "      <td>50</td>\n",
       "      <td>33.393662</td>\n",
       "      <td>33.075697</td>\n",
       "      <td>33.743204</td>\n",
       "      <td>0.905270</td>\n",
       "      <td>0.855461</td>\n",
       "      <td>KNC</td>\n",
       "      <td>model</td>\n",
       "      <td>AUC</td>\n",
       "      <td>50</td>\n",
       "    </tr>\n",
       "    <tr>\n",
       "      <th>5456</th>\n",
       "      <td>jaccard_kernel_k_1</td>\n",
       "      <td>0.95</td>\n",
       "      <td>0.316228</td>\n",
       "      <td>0.05</td>\n",
       "      <td>True</td>\n",
       "      <td>False</td>\n",
       "      <td>30</td>\n",
       "      <td>24.546580</td>\n",
       "      <td>24.304602</td>\n",
       "      <td>24.935784</td>\n",
       "      <td>0.961119</td>\n",
       "      <td>0.670853</td>\n",
       "      <td>LGBMC</td>\n",
       "      <td>no</td>\n",
       "      <td>AUC</td>\n",
       "      <td>30</td>\n",
       "    </tr>\n",
       "  </tbody>\n",
       "</table>\n",
       "</div>"
      ]
     },
     "execution_count": 25,
     "metadata": {},
     "output_type": "execute_result"
    }
   ],
   "execution_count": 25
  },
  {
   "cell_type": "markdown",
   "source": [
    "## How $n^*$ depends on $N$\n",
    "\n",
    "We estimate the $(\\alpha^*, \\delta^*)$-generalizability on a sample of $N$ results.\n",
    "This section shows how the estimate of $n^*$ changes with bigger samples.\n",
    "In particular, we want to know how large $N$ should be to get an estimate for $n^*$ which is \"close enough\" to the estimate we get at $N=50$."
   ],
   "metadata": {
    "collapsed": false
   }
  },
  {
   "cell_type": "code",
   "source": [
    "nstar_50 = df_nstar.loc[df_nstar[\"N\"] == df_nstar[\"Nmax\"]].drop(columns=[\"N\", \"Nmax\"])\n",
    "keys = [\"kernel\", \"alpha\", \"eps\", \"model\", \"tuning\", \"scoring\"]\n",
    "df_ = pd.merge(df_nstar, nstar_50, left_on=keys, right_on=keys, suffixes=(\"\", \"_true\"))[keys + [\"nstar\", \"nstar_true\", \"N\", \"Nmax\"]]\n",
    "df_[\"nstar_error\"] = df_[\"nstar\"] - df_[\"nstar_true\"]\n",
    "df_[\"nstar_relative_error\"] = (df_[\"nstar\"] - df_[\"nstar_true\"]) / df_[\"nstar_true\"]\n",
    "df_[\"nstar_absolute_error\"] = np.abs(df_[\"nstar\"] - df_[\"nstar_true\"])\n",
    "df_[\"nstar_absrel_error\"] = np.abs(df_[\"nstar\"] - df_[\"nstar_true\"]) / df_[\"nstar_true\"]\n",
    "# df_ = df_.loc[df_[\"N\"] != df_[\"Nmax\"]]\n",
    "df_ = df_.query(\"Nmax == 50\")\n",
    "\n",
    "dfplot = df_.copy().query(\"N < Nmax\").rename(columns=pc)\n",
    "dfplot[\"kernel\"] = dfplot[\"kernel\"].map(pk)\n",
    "\n",
    "y = pc[\"nstar_absrel_error\"]"
   ],
   "metadata": {
    "collapsed": false,
    "ExecuteTime": {
     "end_time": "2024-08-04T08:41:44.684940Z",
     "start_time": "2024-08-04T08:41:44.649402Z"
    }
   },
   "outputs": [],
   "execution_count": 26
  },
  {
   "metadata": {
    "ExecuteTime": {
     "end_time": "2024-08-04T08:41:45.680752Z",
     "start_time": "2024-08-04T08:41:44.684940Z"
    }
   },
   "cell_type": "code",
   "source": [
    "fig, ax = plt.subplots(1, 1, figsize=(5.5/2, 2))\n",
    "\n",
    "sns.boxplot(dfplot, x=pc[\"N\"], y=y, showfliers=False, fliersize=0.3, hue=\"kernel\", palette=\"cubehelix\", ax=ax, legend=True, linewidth=1.2, fill=False, gap=0.2)  \n",
    "\n",
    "ax.grid(color=\"grey\", alpha=.2)\n",
    "ax.set_yticks([0, 0.2, 0.4, 0.6, 0.8])\n",
    "\n",
    "ax.legend(*ax.get_legend_handles_labels()).get_frame().set_edgecolor(\"w\")\n",
    "sns.despine()\n",
    "plt.tight_layout(pad=.5)\n",
    "\n",
    "plt.savefig(FIGURES_DIR / \"encoders_nstar_absrel_error.pdf\")\n",
    "plt.show()"
   ],
   "outputs": [
    {
     "data": {
      "text/plain": [
       "<Figure size 275x200 with 1 Axes>"
      ],
      "image/png": "[encoded data removed]"
     },
     "metadata": {},
     "output_type": "display_data"
    }
   ],
   "execution_count": 27
  },
  {
   "metadata": {},
   "cell_type": "markdown",
   "source": [
    "## True $n^*$ estimate error\n",
    "\n",
    "We estimate the $(\\alpha^*, \\delta^*)$-generalizability on a sample of $N$ results.\n",
    "This section shows how the estimate of $n^*$ changes with bigger samples.\n",
    "In particular, we want to know how large $N$ should be to get an estimate for $n^*$ which is \"close enough\" to the estimate we get at $N=50$."
   ]
  },
  {
   "metadata": {
    "ExecuteTime": {
     "end_time": "2024-08-04T08:41:45.721771Z",
     "start_time": "2024-08-04T08:41:45.680752Z"
    }
   },
   "cell_type": "code",
   "source": [
    "nstar_50 = df_nstar.loc[df_nstar[\"N\"] == df_nstar[\"Nmax\"]].drop(columns=[\"N\", \"Nmax\"])\n",
    "keys = [\"kernel\", \"alpha\", \"eps\", \"model\", \"tuning\", \"scoring\"]\n",
    "df_ = pd.merge(df_nstar, nstar_50, left_on=keys, right_on=keys, suffixes=(\"\", \"_true\"))[keys + [\"nstar\", \"nstar_true\", \"N\", \"Nmax\"]]\n",
    "df_[\"nstar_error\"] = df_[\"nstar\"] - df_[\"nstar_true\"]\n",
    "df_[\"nstar_relative_error\"] = (df_[\"nstar\"] - df_[\"nstar_true\"]) / df_[\"nstar_true\"]\n",
    "df_[\"nstar_absolute_error\"] = np.abs(df_[\"nstar\"] - df_[\"nstar_true\"])\n",
    "df_[\"nstar_absrel_error\"] = np.abs(df_[\"nstar\"] - df_[\"nstar_true\"]) / df_[\"nstar_true\"]\n",
    "# df_ = df_.loc[df_[\"N\"] != df_[\"Nmax\"]]\n",
    "df_ = df_.query(\"Nmax == 50\")\n",
    "\n",
    "dfplot = df_.copy().query(\"N < Nmax\").rename(columns=pc)\n",
    "dfplot[\"kernel\"] = dfplot[\"kernel\"].map(pk)\n",
    "\n",
    "y = pc[\"nstar_absrel_error\"]"
   ],
   "outputs": [],
   "execution_count": 28
  },
  {
   "metadata": {},
   "cell_type": "code",
   "outputs": [],
   "execution_count": null,
   "source": ""
  },
  {
   "metadata": {
    "ExecuteTime": {
     "end_time": "2024-08-04T08:42:04.912611Z",
     "start_time": "2024-08-04T08:42:04.889322Z"
    }
   },
   "cell_type": "code",
   "source": "df_nstar",
   "outputs": [
    {
     "data": {
      "text/plain": [
       "                      kernel  alpha       eps  delta  disjoint  replace   N  \\\n",
       "0       borda_kernel_idx_OHE   0.70  0.312316   0.05      True    False  10   \n",
       "1       borda_kernel_idx_OHE   0.70  0.312316   0.05      True    False  20   \n",
       "2       borda_kernel_idx_OHE   0.70  0.312316   0.05      True    False  30   \n",
       "3       borda_kernel_idx_OHE   0.80  0.312316   0.05      True    False  10   \n",
       "4       borda_kernel_idx_OHE   0.80  0.312316   0.05      True    False  20   \n",
       "...                      ...    ...       ...    ...       ...      ...  ..   \n",
       "5593      jaccard_kernel_k_1   0.95  0.316228   0.05      True    False  40   \n",
       "5594  mallows_kernel_nu_auto   0.95  0.312316   0.05      True    False  10   \n",
       "5595  mallows_kernel_nu_auto   0.95  0.312316   0.05      True    False  20   \n",
       "5596  mallows_kernel_nu_auto   0.95  0.312316   0.05      True    False  30   \n",
       "5597  mallows_kernel_nu_auto   0.95  0.312316   0.05      True    False  40   \n",
       "\n",
       "          nstar  nstar_lower  nstar_upper  variance  var_lower_bound model  \\\n",
       "0      5.216087     5.052224     5.825439  0.177483         0.616635   DTC   \n",
       "1      6.070870     5.957052     6.232340  0.269206         0.795183   DTC   \n",
       "2      6.653555     6.579750     6.711976  0.288476         0.899493   DTC   \n",
       "3      5.886354     5.557309     6.073417  0.177483         0.616635   DTC   \n",
       "4      8.012630     7.910309     8.209934  0.269206         0.795183   DTC   \n",
       "...         ...          ...          ...       ...              ...   ...   \n",
       "5593  31.008651    30.719920    31.254311  0.915257         0.784583   SVC   \n",
       "5594  15.491893    14.376245    16.207937  0.549605         0.411855   SVC   \n",
       "5595  17.220952    16.777308    17.591962  0.583080         0.640261   SVC   \n",
       "5596  19.316212    19.062574    19.831211  0.581098         0.784957   SVC   \n",
       "5597  16.845812    16.749389    16.963655  0.580601         0.871310   SVC   \n",
       "\n",
       "     tuning scoring  Nmax  \n",
       "0      full     ACC    50  \n",
       "1      full     ACC    50  \n",
       "2      full     ACC    50  \n",
       "3      full     ACC    50  \n",
       "4      full     ACC    50  \n",
       "...     ...     ...   ...  \n",
       "5593     no      F1    40  \n",
       "5594     no      F1    40  \n",
       "5595     no      F1    40  \n",
       "5596     no      F1    40  \n",
       "5597     no      F1    40  \n",
       "\n",
       "[5598 rows x 16 columns]"
      ],
      "text/html": [
       "<div>\n",
       "<style scoped>\n",
       "    .dataframe tbody tr th:only-of-type {\n",
       "        vertical-align: middle;\n",
       "    }\n",
       "\n",
       "    .dataframe tbody tr th {\n",
       "        vertical-align: top;\n",
       "    }\n",
       "\n",
       "    .dataframe thead th {\n",
       "        text-align: right;\n",
       "    }\n",
       "</style>\n",
       "<table border=\"1\" class=\"dataframe\">\n",
       "  <thead>\n",
       "    <tr style=\"text-align: right;\">\n",
       "      <th></th>\n",
       "      <th>kernel</th>\n",
       "      <th>alpha</th>\n",
       "      <th>eps</th>\n",
       "      <th>delta</th>\n",
       "      <th>disjoint</th>\n",
       "      <th>replace</th>\n",
       "      <th>N</th>\n",
       "      <th>nstar</th>\n",
       "      <th>nstar_lower</th>\n",
       "      <th>nstar_upper</th>\n",
       "      <th>variance</th>\n",
       "      <th>var_lower_bound</th>\n",
       "      <th>model</th>\n",
       "      <th>tuning</th>\n",
       "      <th>scoring</th>\n",
       "      <th>Nmax</th>\n",
       "    </tr>\n",
       "  </thead>\n",
       "  <tbody>\n",
       "    <tr>\n",
       "      <th>0</th>\n",
       "      <td>borda_kernel_idx_OHE</td>\n",
       "      <td>0.70</td>\n",
       "      <td>0.312316</td>\n",
       "      <td>0.05</td>\n",
       "      <td>True</td>\n",
       "      <td>False</td>\n",
       "      <td>10</td>\n",
       "      <td>5.216087</td>\n",
       "      <td>5.052224</td>\n",
       "      <td>5.825439</td>\n",
       "      <td>0.177483</td>\n",
       "      <td>0.616635</td>\n",
       "      <td>DTC</td>\n",
       "      <td>full</td>\n",
       "      <td>ACC</td>\n",
       "      <td>50</td>\n",
       "    </tr>\n",
       "    <tr>\n",
       "      <th>1</th>\n",
       "      <td>borda_kernel_idx_OHE</td>\n",
       "      <td>0.70</td>\n",
       "      <td>0.312316</td>\n",
       "      <td>0.05</td>\n",
       "      <td>True</td>\n",
       "      <td>False</td>\n",
       "      <td>20</td>\n",
       "      <td>6.070870</td>\n",
       "      <td>5.957052</td>\n",
       "      <td>6.232340</td>\n",
       "      <td>0.269206</td>\n",
       "      <td>0.795183</td>\n",
       "      <td>DTC</td>\n",
       "      <td>full</td>\n",
       "      <td>ACC</td>\n",
       "      <td>50</td>\n",
       "    </tr>\n",
       "    <tr>\n",
       "      <th>2</th>\n",
       "      <td>borda_kernel_idx_OHE</td>\n",
       "      <td>0.70</td>\n",
       "      <td>0.312316</td>\n",
       "      <td>0.05</td>\n",
       "      <td>True</td>\n",
       "      <td>False</td>\n",
       "      <td>30</td>\n",
       "      <td>6.653555</td>\n",
       "      <td>6.579750</td>\n",
       "      <td>6.711976</td>\n",
       "      <td>0.288476</td>\n",
       "      <td>0.899493</td>\n",
       "      <td>DTC</td>\n",
       "      <td>full</td>\n",
       "      <td>ACC</td>\n",
       "      <td>50</td>\n",
       "    </tr>\n",
       "    <tr>\n",
       "      <th>3</th>\n",
       "      <td>borda_kernel_idx_OHE</td>\n",
       "      <td>0.80</td>\n",
       "      <td>0.312316</td>\n",
       "      <td>0.05</td>\n",
       "      <td>True</td>\n",
       "      <td>False</td>\n",
       "      <td>10</td>\n",
       "      <td>5.886354</td>\n",
       "      <td>5.557309</td>\n",
       "      <td>6.073417</td>\n",
       "      <td>0.177483</td>\n",
       "      <td>0.616635</td>\n",
       "      <td>DTC</td>\n",
       "      <td>full</td>\n",
       "      <td>ACC</td>\n",
       "      <td>50</td>\n",
       "    </tr>\n",
       "    <tr>\n",
       "      <th>4</th>\n",
       "      <td>borda_kernel_idx_OHE</td>\n",
       "      <td>0.80</td>\n",
       "      <td>0.312316</td>\n",
       "      <td>0.05</td>\n",
       "      <td>True</td>\n",
       "      <td>False</td>\n",
       "      <td>20</td>\n",
       "      <td>8.012630</td>\n",
       "      <td>7.910309</td>\n",
       "      <td>8.209934</td>\n",
       "      <td>0.269206</td>\n",
       "      <td>0.795183</td>\n",
       "      <td>DTC</td>\n",
       "      <td>full</td>\n",
       "      <td>ACC</td>\n",
       "      <td>50</td>\n",
       "    </tr>\n",
       "    <tr>\n",
       "      <th>...</th>\n",
       "      <td>...</td>\n",
       "      <td>...</td>\n",
       "      <td>...</td>\n",
       "      <td>...</td>\n",
       "      <td>...</td>\n",
       "      <td>...</td>\n",
       "      <td>...</td>\n",
       "      <td>...</td>\n",
       "      <td>...</td>\n",
       "      <td>...</td>\n",
       "      <td>...</td>\n",
       "      <td>...</td>\n",
       "      <td>...</td>\n",
       "      <td>...</td>\n",
       "      <td>...</td>\n",
       "      <td>...</td>\n",
       "    </tr>\n",
       "    <tr>\n",
       "      <th>5593</th>\n",
       "      <td>jaccard_kernel_k_1</td>\n",
       "      <td>0.95</td>\n",
       "      <td>0.316228</td>\n",
       "      <td>0.05</td>\n",
       "      <td>True</td>\n",
       "      <td>False</td>\n",
       "      <td>40</td>\n",
       "      <td>31.008651</td>\n",
       "      <td>30.719920</td>\n",
       "      <td>31.254311</td>\n",
       "      <td>0.915257</td>\n",
       "      <td>0.784583</td>\n",
       "      <td>SVC</td>\n",
       "      <td>no</td>\n",
       "      <td>F1</td>\n",
       "      <td>40</td>\n",
       "    </tr>\n",
       "    <tr>\n",
       "      <th>5594</th>\n",
       "      <td>mallows_kernel_nu_auto</td>\n",
       "      <td>0.95</td>\n",
       "      <td>0.312316</td>\n",
       "      <td>0.05</td>\n",
       "      <td>True</td>\n",
       "      <td>False</td>\n",
       "      <td>10</td>\n",
       "      <td>15.491893</td>\n",
       "      <td>14.376245</td>\n",
       "      <td>16.207937</td>\n",
       "      <td>0.549605</td>\n",
       "      <td>0.411855</td>\n",
       "      <td>SVC</td>\n",
       "      <td>no</td>\n",
       "      <td>F1</td>\n",
       "      <td>40</td>\n",
       "    </tr>\n",
       "    <tr>\n",
       "      <th>5595</th>\n",
       "      <td>mallows_kernel_nu_auto</td>\n",
       "      <td>0.95</td>\n",
       "      <td>0.312316</td>\n",
       "      <td>0.05</td>\n",
       "      <td>True</td>\n",
       "      <td>False</td>\n",
       "      <td>20</td>\n",
       "      <td>17.220952</td>\n",
       "      <td>16.777308</td>\n",
       "      <td>17.591962</td>\n",
       "      <td>0.583080</td>\n",
       "      <td>0.640261</td>\n",
       "      <td>SVC</td>\n",
       "      <td>no</td>\n",
       "      <td>F1</td>\n",
       "      <td>40</td>\n",
       "    </tr>\n",
       "    <tr>\n",
       "      <th>5596</th>\n",
       "      <td>mallows_kernel_nu_auto</td>\n",
       "      <td>0.95</td>\n",
       "      <td>0.312316</td>\n",
       "      <td>0.05</td>\n",
       "      <td>True</td>\n",
       "      <td>False</td>\n",
       "      <td>30</td>\n",
       "      <td>19.316212</td>\n",
       "      <td>19.062574</td>\n",
       "      <td>19.831211</td>\n",
       "      <td>0.581098</td>\n",
       "      <td>0.784957</td>\n",
       "      <td>SVC</td>\n",
       "      <td>no</td>\n",
       "      <td>F1</td>\n",
       "      <td>40</td>\n",
       "    </tr>\n",
       "    <tr>\n",
       "      <th>5597</th>\n",
       "      <td>mallows_kernel_nu_auto</td>\n",
       "      <td>0.95</td>\n",
       "      <td>0.312316</td>\n",
       "      <td>0.05</td>\n",
       "      <td>True</td>\n",
       "      <td>False</td>\n",
       "      <td>40</td>\n",
       "      <td>16.845812</td>\n",
       "      <td>16.749389</td>\n",
       "      <td>16.963655</td>\n",
       "      <td>0.580601</td>\n",
       "      <td>0.871310</td>\n",
       "      <td>SVC</td>\n",
       "      <td>no</td>\n",
       "      <td>F1</td>\n",
       "      <td>40</td>\n",
       "    </tr>\n",
       "  </tbody>\n",
       "</table>\n",
       "<p>5598 rows × 16 columns</p>\n",
       "</div>"
      ]
     },
     "execution_count": 29,
     "metadata": {},
     "output_type": "execute_result"
    }
   ],
   "execution_count": 29
  },
  {
   "metadata": {
    "ExecuteTime": {
     "end_time": "2024-08-04T08:50:05.381790Z",
     "start_time": "2024-08-04T08:50:05.374367Z"
    }
   },
   "cell_type": "code",
   "source": [
    "for configuration_dir in OUTPUT_DIR.glob(\"*\"):\n",
    "    print(configuration_dir)\n",
    "    break"
   ],
   "outputs": [
    {
     "name": "stdout",
     "output_type": "stream",
     "text": [
      "outputs\\model=DTC_tuning=full_scoring=ACC\n"
     ]
    }
   ],
   "execution_count": 37
  },
  {
   "metadata": {},
   "cell_type": "code",
   "outputs": [],
   "execution_count": null,
   "source": [
    "df_nstar = pd.concat([pd.read_parquet(x) \n",
    "                      for x in tqdm(list(OUTPUT_DIR.glob(\"**/**/**/nstar.parquet\")), \n",
    "                                    desc=\"Loading dataframes\")]).reset_index(drop=True)\n",
    "\n",
    "fixed_factors = [factor for factor, lvl in EXPERIMENTAL_FACTORS.items() if lvl == \"_all\"]  \n",
    "df_nstar = df_nstar.join(df_nstar.groupby(fixed_factors)[\"N\"].max(), on=fixed_factors, rsuffix=\"max\")"
   ]
  }
 ],
 "metadata": {
  "kernelspec": {
   "display_name": "gen",
   "language": "python",
   "name": "python3"
  },
  "language_info": {
   "codemirror_mode": {
    "name": "ipython",
    "version": 3
   },
   "file_extension": ".py",
   "mimetype": "text/x-python",
   "name": "python",
   "nbconvert_exporter": "python",
   "pygments_lexer": "ipython3",
   "version": "3.12.3"
  }
 },
 "nbformat": 4,
 "nbformat_minor": 2
}
